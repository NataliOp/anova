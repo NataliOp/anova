{
 "cells": [
  {
   "cell_type": "markdown",
   "id": "12338322-9efe-41c5-8c79-cbf40b98869f",
   "metadata": {},
   "source": [
    "<div style=\"background-color: #fceaea; padding: 15px; border-left: 5px solid #d9534f;\">\n",
    "<b>Описание задачи:</b><br><br>\n",
    "Сеть ресторанов быстрого питания планирует добавить новый пункт в свое меню. Однако они все еще не определились между тремя возможными маркетинговыми кампаниями для продвижения нового продукта. Чтобы определить, какая акция окажет наибольшее влияние на продажи, новый пункт вводится в точках на нескольких случайно выбранных рынках. В каждой точке используется разная акция, и еженедельные продажи нового пункта регистрируются в течение первых четырех недель.<br><br>\n",
    "<b>Цель:</b><br><br>\n",
    "Оценить результаты A/B-тестирования и решить, какая маркетинговая стратегия является наилучшей.<br><br>\n",
    "<b>Описание датасета:</b><br><br>\n",
    "1. MarketID - уникальный идентификатор магазина.<br>\n",
    "2. MarketSize - размер рыночной площади по объемам продаж.<br>\n",
    "3. LocationID - уникальный идентификатор местоположения магазина.<br>\n",
    "4. AgeOfStore - возраст магазина в годах.<br>\n",
    "5. Promotion - одна из трех протестированных акций.<br>\n",
    "6. week - одна из четырех недель, когда проводились акции.<br>\n",
    "7. SalesInThousands - объем продаж для определенного LocationID, Promotion, week.<br><br>\n",
    "<b>Ход исследования:</b><br><br>\n",
    "1. Загрузка датасета.<br>\n",
    "2. Разведочный анализ данных.<br>\n",
    "3. Дисперсионный анализ (ANOVA).<br>\n",
    "4. Выводы."
   ]
  },
  {
   "cell_type": "markdown",
   "id": "a4a28240-669b-4ea0-9758-ae153edbb081",
   "metadata": {},
   "source": [
    "<div style=\"background-color: #e6f7ff; padding: 15px; border-left: 5px solid #5bc0de;\">\n",
    " <b>1. Загрузка датасета<b>\n",
    "</div>"
   ]
  },
  {
   "cell_type": "code",
   "execution_count": 1,
   "id": "7fdc399e-b179-48fb-b6cc-92897b9dd240",
   "metadata": {},
   "outputs": [],
   "source": [
    "import os\n",
    "import kagglehub\n",
    "import pandas as pd\n",
    "from scipy.stats import levene, shapiro, kruskal\n",
    "import pingouin as pg\n",
    "import matplotlib.pyplot as plt\n",
    "import seaborn as sns"
   ]
  },
  {
   "cell_type": "code",
   "execution_count": 2,
   "id": "6327ac60-412e-4c12-8f07-cb0628d6cb9f",
   "metadata": {},
   "outputs": [],
   "source": [
    "# скачиваем датасет из Kaggle - получаем путь к папке\n",
    "path_folder = kagglehub.dataset_download(\"chebotinaa/fast-food-marketing-campaign-ab-test\")"
   ]
  },
  {
   "cell_type": "code",
   "execution_count": 3,
   "id": "a88ae51e-5ca3-492f-b032-438ca6afe3af",
   "metadata": {},
   "outputs": [],
   "source": [
    "# получаем путь к файлу .csv\n",
    "for address, dirs, files in os.walk(path_folder):\n",
    "    for name in files:\n",
    "        path_file = os.path.join(address, name)"
   ]
  },
  {
   "cell_type": "code",
   "execution_count": 4,
   "id": "b6f55c5e-5906-442b-ab6f-b0622c6194a5",
   "metadata": {},
   "outputs": [],
   "source": [
    "# получаем DataFrame\n",
    "df = pd.read_csv(path_file)"
   ]
  },
  {
   "cell_type": "markdown",
   "id": "5993381f-344c-486d-8d8b-20e4645b2af3",
   "metadata": {},
   "source": [
    "<div style=\"background-color: #e6f7ff; padding: 15px; border-left: 5px solid #5bc0de;\">\n",
    " <b>2. Разведочный анализ данных<b>\n",
    "</div>"
   ]
  },
  {
   "cell_type": "markdown",
   "id": "af950e66-8604-4278-adc7-ea781692b99b",
   "metadata": {},
   "source": [
    "##### Типы переменных, пропущенные наблюдения, дубликаты"
   ]
  },
  {
   "cell_type": "code",
   "execution_count": 5,
   "id": "323ffd04-79b4-45e5-a459-ff4f4c416098",
   "metadata": {},
   "outputs": [
    {
     "name": "stdout",
     "output_type": "stream",
     "text": [
      "<class 'pandas.core.frame.DataFrame'>\n",
      "RangeIndex: 548 entries, 0 to 547\n",
      "Data columns (total 7 columns):\n",
      " #   Column            Non-Null Count  Dtype  \n",
      "---  ------            --------------  -----  \n",
      " 0   MarketID          548 non-null    int64  \n",
      " 1   MarketSize        548 non-null    object \n",
      " 2   LocationID        548 non-null    int64  \n",
      " 3   AgeOfStore        548 non-null    int64  \n",
      " 4   Promotion         548 non-null    int64  \n",
      " 5   week              548 non-null    int64  \n",
      " 6   SalesInThousands  548 non-null    float64\n",
      "dtypes: float64(1), int64(5), object(1)\n",
      "memory usage: 30.1+ KB\n"
     ]
    }
   ],
   "source": [
    "df.info()"
   ]
  },
  {
   "cell_type": "markdown",
   "id": "16d590fd-c99f-491f-9b4e-fbfec8934b84",
   "metadata": {},
   "source": [
    "Пропущенные наблюдения отсутствуют."
   ]
  },
  {
   "cell_type": "code",
   "execution_count": 6,
   "id": "fd22bf0c-7991-487f-baf9-f8fa25e3cc33",
   "metadata": {},
   "outputs": [
    {
     "data": {
      "text/html": [
       "<div>\n",
       "<style scoped>\n",
       "    .dataframe tbody tr th:only-of-type {\n",
       "        vertical-align: middle;\n",
       "    }\n",
       "\n",
       "    .dataframe tbody tr th {\n",
       "        vertical-align: top;\n",
       "    }\n",
       "\n",
       "    .dataframe thead th {\n",
       "        text-align: right;\n",
       "    }\n",
       "</style>\n",
       "<table border=\"1\" class=\"dataframe\">\n",
       "  <thead>\n",
       "    <tr style=\"text-align: right;\">\n",
       "      <th></th>\n",
       "      <th>MarketID</th>\n",
       "      <th>MarketSize</th>\n",
       "      <th>LocationID</th>\n",
       "      <th>AgeOfStore</th>\n",
       "      <th>Promotion</th>\n",
       "      <th>week</th>\n",
       "      <th>SalesInThousands</th>\n",
       "    </tr>\n",
       "  </thead>\n",
       "  <tbody>\n",
       "    <tr>\n",
       "      <th>0</th>\n",
       "      <td>1</td>\n",
       "      <td>Medium</td>\n",
       "      <td>1</td>\n",
       "      <td>4</td>\n",
       "      <td>3</td>\n",
       "      <td>1</td>\n",
       "      <td>33.73</td>\n",
       "    </tr>\n",
       "    <tr>\n",
       "      <th>1</th>\n",
       "      <td>1</td>\n",
       "      <td>Medium</td>\n",
       "      <td>1</td>\n",
       "      <td>4</td>\n",
       "      <td>3</td>\n",
       "      <td>2</td>\n",
       "      <td>35.67</td>\n",
       "    </tr>\n",
       "    <tr>\n",
       "      <th>2</th>\n",
       "      <td>1</td>\n",
       "      <td>Medium</td>\n",
       "      <td>1</td>\n",
       "      <td>4</td>\n",
       "      <td>3</td>\n",
       "      <td>3</td>\n",
       "      <td>29.03</td>\n",
       "    </tr>\n",
       "    <tr>\n",
       "      <th>3</th>\n",
       "      <td>1</td>\n",
       "      <td>Medium</td>\n",
       "      <td>1</td>\n",
       "      <td>4</td>\n",
       "      <td>3</td>\n",
       "      <td>4</td>\n",
       "      <td>39.25</td>\n",
       "    </tr>\n",
       "    <tr>\n",
       "      <th>4</th>\n",
       "      <td>1</td>\n",
       "      <td>Medium</td>\n",
       "      <td>2</td>\n",
       "      <td>5</td>\n",
       "      <td>2</td>\n",
       "      <td>1</td>\n",
       "      <td>27.81</td>\n",
       "    </tr>\n",
       "  </tbody>\n",
       "</table>\n",
       "</div>"
      ],
      "text/plain": [
       "   MarketID MarketSize  LocationID  AgeOfStore  Promotion  week  \\\n",
       "0         1     Medium           1           4          3     1   \n",
       "1         1     Medium           1           4          3     2   \n",
       "2         1     Medium           1           4          3     3   \n",
       "3         1     Medium           1           4          3     4   \n",
       "4         1     Medium           2           5          2     1   \n",
       "\n",
       "   SalesInThousands  \n",
       "0             33.73  \n",
       "1             35.67  \n",
       "2             29.03  \n",
       "3             39.25  \n",
       "4             27.81  "
      ]
     },
     "execution_count": 6,
     "metadata": {},
     "output_type": "execute_result"
    }
   ],
   "source": [
    "df.head()"
   ]
  },
  {
   "cell_type": "code",
   "execution_count": 7,
   "id": "ff69ca35-77e5-4de3-a0c7-74ee300184ba",
   "metadata": {},
   "outputs": [
    {
     "data": {
      "text/html": [
       "<div>\n",
       "<style scoped>\n",
       "    .dataframe tbody tr th:only-of-type {\n",
       "        vertical-align: middle;\n",
       "    }\n",
       "\n",
       "    .dataframe tbody tr th {\n",
       "        vertical-align: top;\n",
       "    }\n",
       "\n",
       "    .dataframe thead th {\n",
       "        text-align: right;\n",
       "    }\n",
       "</style>\n",
       "<table border=\"1\" class=\"dataframe\">\n",
       "  <thead>\n",
       "    <tr style=\"text-align: right;\">\n",
       "      <th></th>\n",
       "      <th>MarketID</th>\n",
       "      <th>MarketSize</th>\n",
       "      <th>LocationID</th>\n",
       "      <th>AgeOfStore</th>\n",
       "      <th>Promotion</th>\n",
       "      <th>week</th>\n",
       "      <th>SalesInThousands</th>\n",
       "    </tr>\n",
       "  </thead>\n",
       "  <tbody>\n",
       "  </tbody>\n",
       "</table>\n",
       "</div>"
      ],
      "text/plain": [
       "Empty DataFrame\n",
       "Columns: [MarketID, MarketSize, LocationID, AgeOfStore, Promotion, week, SalesInThousands]\n",
       "Index: []"
      ]
     },
     "execution_count": 7,
     "metadata": {},
     "output_type": "execute_result"
    }
   ],
   "source": [
    "# проверка на дубликаты\n",
    "df.loc[df.duplicated(), :]"
   ]
  },
  {
   "cell_type": "markdown",
   "id": "a030dedf-9a3a-47c7-94bf-cb722d24b224",
   "metadata": {},
   "source": [
    "Дубликатов в наборе данных не обнаружено."
   ]
  },
  {
   "cell_type": "markdown",
   "id": "31b659f1-bcd2-47a5-833f-bbac5a857714",
   "metadata": {},
   "source": [
    "##### Определение категориальных и количественных переменных"
   ]
  },
  {
   "cell_type": "code",
   "execution_count": 8,
   "id": "00425d68-9239-41dc-a11d-babe46c68ef4",
   "metadata": {},
   "outputs": [
    {
     "data": {
      "text/plain": [
       "MarketID             10\n",
       "MarketSize            3\n",
       "LocationID          137\n",
       "AgeOfStore           25\n",
       "Promotion             3\n",
       "week                  4\n",
       "SalesInThousands    517\n",
       "dtype: int64"
      ]
     },
     "execution_count": 8,
     "metadata": {},
     "output_type": "execute_result"
    }
   ],
   "source": [
    "df.nunique()"
   ]
  },
  {
   "cell_type": "code",
   "execution_count": 9,
   "id": "d2872203-245f-495c-956e-50d2aca5b9a3",
   "metadata": {},
   "outputs": [
    {
     "data": {
      "text/plain": [
       "['MarketSize', 'MarketID', 'Promotion', 'week']"
      ]
     },
     "execution_count": 9,
     "metadata": {},
     "output_type": "execute_result"
    }
   ],
   "source": [
    "# выведем категориальные переменные \n",
    "cat_cols = [col for col in df.columns if str(df[col].dtypes) in ['object', 'category', 'bool']]\n",
    "num_but_cat = [col for col in df.columns if df[col].nunique() < 15 and str(df[col].dtypes) in ['int64', 'float64']]\n",
    "cat_uncer = [col for col in df.columns if df[col].nunique() > 15 and str(df[col].dtypes) in ['category', 'object']]\n",
    "cat_cols = cat_cols + num_but_cat\n",
    "cat_cols = [col for col in cat_cols if col not in cat_uncer]\n",
    "cat_cols"
   ]
  },
  {
   "cell_type": "code",
   "execution_count": 10,
   "id": "bbc8744d-bdff-4cf2-9337-a8656629a437",
   "metadata": {},
   "outputs": [
    {
     "name": "stdout",
     "output_type": "stream",
     "text": [
      "MarketSize - уникальные значения:\n",
      "['Medium' 'Small' 'Large']\n",
      "--------------------------------\n",
      "MarketID - уникальные значения:\n",
      "[ 1  2  3  4  5  6  7  8  9 10]\n",
      "--------------------------------\n",
      "Promotion - уникальные значения:\n",
      "[3 2 1]\n",
      "--------------------------------\n",
      "week - уникальные значения:\n",
      "[1 2 3 4]\n",
      "--------------------------------\n"
     ]
    }
   ],
   "source": [
    "# выведем униклаьные значения для категориальных переменных\n",
    "for col in cat_cols:\n",
    "    print(f'{col} - уникальные значения:\\n{df[col].unique()}')\n",
    "    print('--------------------------------')"
   ]
  },
  {
   "cell_type": "code",
   "execution_count": 11,
   "id": "3d6359bc-5150-42cb-9994-34d8e2e44d72",
   "metadata": {},
   "outputs": [
    {
     "data": {
      "text/plain": [
       "['LocationID', 'AgeOfStore', 'SalesInThousands']"
      ]
     },
     "execution_count": 11,
     "metadata": {},
     "output_type": "execute_result"
    }
   ],
   "source": [
    "# количественные переменные\n",
    "num_col = [col for col in df.columns if col not in cat_cols and str(df[col].dtypes) in ['float64', 'int64']]\n",
    "num_col"
   ]
  },
  {
   "cell_type": "markdown",
   "id": "bf375391-83b3-4f76-87e5-905b526ff3be",
   "metadata": {},
   "source": [
    "LocationID - уникальный идентификатор местоположения магазина. \n",
    "Несмотря на то, что у данной переменной большое количество уникальных значений относительно категориальных переменных датасета, на мой взгляд, она все равно к ним относится. Уберем ее из списка количественных переменных. "
   ]
  },
  {
   "cell_type": "code",
   "execution_count": 12,
   "id": "db7d630e-4ae5-4947-a080-797129120641",
   "metadata": {},
   "outputs": [
    {
     "data": {
      "text/plain": [
       "['AgeOfStore', 'SalesInThousands']"
      ]
     },
     "execution_count": 12,
     "metadata": {},
     "output_type": "execute_result"
    }
   ],
   "source": [
    "num_col = num_col[1:]\n",
    "num_col"
   ]
  },
  {
   "cell_type": "markdown",
   "id": "ba4be0ed-e59f-4d08-962c-a205e063d53a",
   "metadata": {},
   "source": [
    "##### Продолжаем исследование: таблицы и графики"
   ]
  },
  {
   "cell_type": "code",
   "execution_count": 13,
   "id": "d9b495d5-68f1-4445-8ced-7cacfb42474c",
   "metadata": {},
   "outputs": [
    {
     "data": {
      "text/plain": [
       "Promotion\n",
       "1    172\n",
       "2    188\n",
       "3    188\n",
       "Name: Promotion, dtype: int64"
      ]
     },
     "execution_count": 13,
     "metadata": {},
     "output_type": "execute_result"
    }
   ],
   "source": [
    "df.groupby('Promotion').Promotion.count()"
   ]
  },
  {
   "cell_type": "code",
   "execution_count": 14,
   "id": "51f410c2-1bfd-4f8b-b659-7c5ea5db9568",
   "metadata": {},
   "outputs": [
    {
     "data": {
      "image/png": "[encoded data removed]",
      "text/plain": [
       "<Figure size 1000x600 with 1 Axes>"
      ]
     },
     "metadata": {},
     "output_type": "display_data"
    }
   ],
   "source": [
    "plt.figure(figsize=(10, 6))\n",
    "sns.countplot(data=df, x='Promotion', hue='Promotion', palette=['r', 'g', 'b'], legend=False)\n",
    "plt.title('Распределение протестированных акций')\n",
    "plt.xlabel('Протестированные акции')\n",
    "plt.ylabel('Количество');"
   ]
  },
  {
   "cell_type": "code",
   "execution_count": 15,
   "id": "67c83b75-cef8-47b0-b4d3-a28a28d6b006",
   "metadata": {},
   "outputs": [
    {
     "data": {
      "text/html": [
       "<div>\n",
       "<style scoped>\n",
       "    .dataframe tbody tr th:only-of-type {\n",
       "        vertical-align: middle;\n",
       "    }\n",
       "\n",
       "    .dataframe tbody tr th {\n",
       "        vertical-align: top;\n",
       "    }\n",
       "\n",
       "    .dataframe thead th {\n",
       "        text-align: right;\n",
       "    }\n",
       "</style>\n",
       "<table border=\"1\" class=\"dataframe\">\n",
       "  <thead>\n",
       "    <tr style=\"text-align: right;\">\n",
       "      <th></th>\n",
       "      <th>Promotion</th>\n",
       "      <th>SalesInThousands</th>\n",
       "    </tr>\n",
       "  </thead>\n",
       "  <tbody>\n",
       "    <tr>\n",
       "      <th>0</th>\n",
       "      <td>1</td>\n",
       "      <td>9993.03</td>\n",
       "    </tr>\n",
       "    <tr>\n",
       "      <th>1</th>\n",
       "      <td>2</td>\n",
       "      <td>8897.93</td>\n",
       "    </tr>\n",
       "    <tr>\n",
       "      <th>2</th>\n",
       "      <td>3</td>\n",
       "      <td>10408.52</td>\n",
       "    </tr>\n",
       "  </tbody>\n",
       "</table>\n",
       "</div>"
      ],
      "text/plain": [
       "   Promotion  SalesInThousands\n",
       "0          1           9993.03\n",
       "1          2           8897.93\n",
       "2          3          10408.52"
      ]
     },
     "execution_count": 15,
     "metadata": {},
     "output_type": "execute_result"
    }
   ],
   "source": [
    "df.groupby('Promotion', as_index=False).agg({'SalesInThousands' : 'sum'})"
   ]
  },
  {
   "cell_type": "code",
   "execution_count": 16,
   "id": "1e4eac23-0edd-4c07-9ef2-b14e256a4c30",
   "metadata": {},
   "outputs": [
    {
     "data": {
      "image/png": "[encoded data removed]",
      "text/plain": [
       "<Figure size 1000x600 with 1 Axes>"
      ]
     },
     "metadata": {},
     "output_type": "display_data"
    }
   ],
   "source": [
    "plt.figure(figsize=(10, 6))\n",
    "sns.histplot(data=df, x='SalesInThousands', hue='Promotion', multiple='stack', kde=True, palette='viridis')\n",
    "plt.title('Распределение объема продаж в зависимости от типа протестированной акции', fontsize=12)\n",
    "plt.xlabel('Объем продаж', fontsize=10)\n",
    "plt.ylabel('Абсолютная частота', fontsize=10)\n",
    "plt.show();"
   ]
  },
  {
   "cell_type": "markdown",
   "id": "0a2e29fa-f8aa-4496-be3b-dfce26a33909",
   "metadata": {},
   "source": [
    "Исходя из графика выше, можно заключить, что третий тип акций принес наибольшие продажи."
   ]
  },
  {
   "cell_type": "code",
   "execution_count": 17,
   "id": "e009d432-11ff-4c92-b82b-f74ad573147b",
   "metadata": {},
   "outputs": [
    {
     "data": {
      "text/html": [
       "<div>\n",
       "<style scoped>\n",
       "    .dataframe tbody tr th:only-of-type {\n",
       "        vertical-align: middle;\n",
       "    }\n",
       "\n",
       "    .dataframe tbody tr th {\n",
       "        vertical-align: top;\n",
       "    }\n",
       "\n",
       "    .dataframe thead th {\n",
       "        text-align: right;\n",
       "    }\n",
       "</style>\n",
       "<table border=\"1\" class=\"dataframe\">\n",
       "  <thead>\n",
       "    <tr style=\"text-align: right;\">\n",
       "      <th></th>\n",
       "      <th>MarketSize</th>\n",
       "      <th>SalesInThousands</th>\n",
       "    </tr>\n",
       "  </thead>\n",
       "  <tbody>\n",
       "    <tr>\n",
       "      <th>0</th>\n",
       "      <td>Large</td>\n",
       "      <td>11779.61</td>\n",
       "    </tr>\n",
       "    <tr>\n",
       "      <th>1</th>\n",
       "      <td>Medium</td>\n",
       "      <td>14075.31</td>\n",
       "    </tr>\n",
       "    <tr>\n",
       "      <th>2</th>\n",
       "      <td>Small</td>\n",
       "      <td>3444.56</td>\n",
       "    </tr>\n",
       "  </tbody>\n",
       "</table>\n",
       "</div>"
      ],
      "text/plain": [
       "  MarketSize  SalesInThousands\n",
       "0      Large          11779.61\n",
       "1     Medium          14075.31\n",
       "2      Small           3444.56"
      ]
     },
     "execution_count": 17,
     "metadata": {},
     "output_type": "execute_result"
    }
   ],
   "source": [
    "df.groupby('MarketSize', as_index=False).agg({'SalesInThousands' : 'sum'})"
   ]
  },
  {
   "cell_type": "code",
   "execution_count": 18,
   "id": "024aa449-9eb4-455b-8dc1-1a349a0522c8",
   "metadata": {},
   "outputs": [
    {
     "data": {
      "image/png": "[encoded data removed]",
      "text/plain": [
       "<Figure size 1000x600 with 1 Axes>"
      ]
     },
     "metadata": {},
     "output_type": "display_data"
    }
   ],
   "source": [
    "plt.figure(figsize=(10, 6))\n",
    "sns.histplot(data=df, x='SalesInThousands', hue='MarketSize', multiple='stack', kde=True, palette='viridis')\n",
    "plt.title('Распределение объема продаж в зависимости от размера магазина', fontsize=12)\n",
    "plt.xlabel('Объем продаж', fontsize=10)\n",
    "plt.ylabel('Абсолютная частота', fontsize=10)\n",
    "plt.show();"
   ]
  },
  {
   "cell_type": "code",
   "execution_count": 19,
   "id": "a0da4282-32bb-40f4-a8c3-0964dce890b3",
   "metadata": {},
   "outputs": [
    {
     "data": {
      "text/html": [
       "<div>\n",
       "<style scoped>\n",
       "    .dataframe tbody tr th:only-of-type {\n",
       "        vertical-align: middle;\n",
       "    }\n",
       "\n",
       "    .dataframe tbody tr th {\n",
       "        vertical-align: top;\n",
       "    }\n",
       "\n",
       "    .dataframe thead th {\n",
       "        text-align: right;\n",
       "    }\n",
       "</style>\n",
       "<table border=\"1\" class=\"dataframe\">\n",
       "  <thead>\n",
       "    <tr style=\"text-align: right;\">\n",
       "      <th></th>\n",
       "      <th>MarketSize</th>\n",
       "      <th>Promotion</th>\n",
       "      <th>SalesInThousands</th>\n",
       "    </tr>\n",
       "  </thead>\n",
       "  <tbody>\n",
       "    <tr>\n",
       "      <th>0</th>\n",
       "      <td>Large</td>\n",
       "      <td>1</td>\n",
       "      <td>4213.21</td>\n",
       "    </tr>\n",
       "    <tr>\n",
       "      <th>1</th>\n",
       "      <td>Large</td>\n",
       "      <td>2</td>\n",
       "      <td>3860.61</td>\n",
       "    </tr>\n",
       "    <tr>\n",
       "      <th>2</th>\n",
       "      <td>Large</td>\n",
       "      <td>3</td>\n",
       "      <td>3705.79</td>\n",
       "    </tr>\n",
       "    <tr>\n",
       "      <th>3</th>\n",
       "      <td>Medium</td>\n",
       "      <td>1</td>\n",
       "      <td>4576.57</td>\n",
       "    </tr>\n",
       "    <tr>\n",
       "      <th>4</th>\n",
       "      <td>Medium</td>\n",
       "      <td>2</td>\n",
       "      <td>4224.35</td>\n",
       "    </tr>\n",
       "    <tr>\n",
       "      <th>5</th>\n",
       "      <td>Medium</td>\n",
       "      <td>3</td>\n",
       "      <td>5274.39</td>\n",
       "    </tr>\n",
       "    <tr>\n",
       "      <th>6</th>\n",
       "      <td>Small</td>\n",
       "      <td>1</td>\n",
       "      <td>1203.25</td>\n",
       "    </tr>\n",
       "    <tr>\n",
       "      <th>7</th>\n",
       "      <td>Small</td>\n",
       "      <td>2</td>\n",
       "      <td>812.97</td>\n",
       "    </tr>\n",
       "    <tr>\n",
       "      <th>8</th>\n",
       "      <td>Small</td>\n",
       "      <td>3</td>\n",
       "      <td>1428.34</td>\n",
       "    </tr>\n",
       "  </tbody>\n",
       "</table>\n",
       "</div>"
      ],
      "text/plain": [
       "  MarketSize  Promotion  SalesInThousands\n",
       "0      Large          1           4213.21\n",
       "1      Large          2           3860.61\n",
       "2      Large          3           3705.79\n",
       "3     Medium          1           4576.57\n",
       "4     Medium          2           4224.35\n",
       "5     Medium          3           5274.39\n",
       "6      Small          1           1203.25\n",
       "7      Small          2            812.97\n",
       "8      Small          3           1428.34"
      ]
     },
     "execution_count": 19,
     "metadata": {},
     "output_type": "execute_result"
    }
   ],
   "source": [
    "df.groupby(['MarketSize', 'Promotion'], as_index=False).agg({'SalesInThousands' : 'sum'})"
   ]
  },
  {
   "cell_type": "markdown",
   "id": "9f6b38a2-69c6-4782-b957-7833c9bfa661",
   "metadata": {},
   "source": [
    "Магазины среднего размера принесли самые высокие показатели продаж."
   ]
  },
  {
   "cell_type": "code",
   "execution_count": 20,
   "id": "e0725c40-04d5-4dc5-8dcd-5a17276af998",
   "metadata": {},
   "outputs": [
    {
     "data": {
      "text/html": [
       "<div>\n",
       "<style scoped>\n",
       "    .dataframe tbody tr th:only-of-type {\n",
       "        vertical-align: middle;\n",
       "    }\n",
       "\n",
       "    .dataframe tbody tr th {\n",
       "        vertical-align: top;\n",
       "    }\n",
       "\n",
       "    .dataframe thead th {\n",
       "        text-align: right;\n",
       "    }\n",
       "</style>\n",
       "<table border=\"1\" class=\"dataframe\">\n",
       "  <thead>\n",
       "    <tr style=\"text-align: right;\">\n",
       "      <th></th>\n",
       "      <th>week</th>\n",
       "      <th>Promotion</th>\n",
       "      <th>SalesInThousands</th>\n",
       "    </tr>\n",
       "  </thead>\n",
       "  <tbody>\n",
       "    <tr>\n",
       "      <th>0</th>\n",
       "      <td>1</td>\n",
       "      <td>1</td>\n",
       "      <td>2504.51</td>\n",
       "    </tr>\n",
       "    <tr>\n",
       "      <th>1</th>\n",
       "      <td>1</td>\n",
       "      <td>2</td>\n",
       "      <td>2243.32</td>\n",
       "    </tr>\n",
       "    <tr>\n",
       "      <th>2</th>\n",
       "      <td>1</td>\n",
       "      <td>3</td>\n",
       "      <td>2621.48</td>\n",
       "    </tr>\n",
       "    <tr>\n",
       "      <th>3</th>\n",
       "      <td>2</td>\n",
       "      <td>1</td>\n",
       "      <td>2447.97</td>\n",
       "    </tr>\n",
       "    <tr>\n",
       "      <th>4</th>\n",
       "      <td>2</td>\n",
       "      <td>2</td>\n",
       "      <td>2236.38</td>\n",
       "    </tr>\n",
       "    <tr>\n",
       "      <th>5</th>\n",
       "      <td>2</td>\n",
       "      <td>3</td>\n",
       "      <td>2629.61</td>\n",
       "    </tr>\n",
       "    <tr>\n",
       "      <th>6</th>\n",
       "      <td>3</td>\n",
       "      <td>1</td>\n",
       "      <td>2527.32</td>\n",
       "    </tr>\n",
       "    <tr>\n",
       "      <th>7</th>\n",
       "      <td>3</td>\n",
       "      <td>2</td>\n",
       "      <td>2242.94</td>\n",
       "    </tr>\n",
       "    <tr>\n",
       "      <th>8</th>\n",
       "      <td>3</td>\n",
       "      <td>3</td>\n",
       "      <td>2555.76</td>\n",
       "    </tr>\n",
       "    <tr>\n",
       "      <th>9</th>\n",
       "      <td>4</td>\n",
       "      <td>1</td>\n",
       "      <td>2513.23</td>\n",
       "    </tr>\n",
       "    <tr>\n",
       "      <th>10</th>\n",
       "      <td>4</td>\n",
       "      <td>2</td>\n",
       "      <td>2175.29</td>\n",
       "    </tr>\n",
       "    <tr>\n",
       "      <th>11</th>\n",
       "      <td>4</td>\n",
       "      <td>3</td>\n",
       "      <td>2601.67</td>\n",
       "    </tr>\n",
       "  </tbody>\n",
       "</table>\n",
       "</div>"
      ],
      "text/plain": [
       "    week  Promotion  SalesInThousands\n",
       "0      1          1           2504.51\n",
       "1      1          2           2243.32\n",
       "2      1          3           2621.48\n",
       "3      2          1           2447.97\n",
       "4      2          2           2236.38\n",
       "5      2          3           2629.61\n",
       "6      3          1           2527.32\n",
       "7      3          2           2242.94\n",
       "8      3          3           2555.76\n",
       "9      4          1           2513.23\n",
       "10     4          2           2175.29\n",
       "11     4          3           2601.67"
      ]
     },
     "execution_count": 20,
     "metadata": {},
     "output_type": "execute_result"
    }
   ],
   "source": [
    "df.groupby(['week', 'Promotion'], as_index=False).agg({'SalesInThousands' : 'sum'})"
   ]
  },
  {
   "cell_type": "markdown",
   "id": "f5f403ef-62cd-4efa-a67a-82dd5f1479fe",
   "metadata": {},
   "source": [
    "Судя по представленным значениям, объем продаж по неделям не изменяется резко, остается в схожих диапазонах (от ~2175 до ~2629). "
   ]
  },
  {
   "cell_type": "code",
   "execution_count": 21,
   "id": "c06496c0-6488-447c-8fae-aa2d6875a01d",
   "metadata": {},
   "outputs": [
    {
     "data": {
      "image/png": "[encoded data removed]",
      "text/plain": [
       "<Figure size 1000x600 with 1 Axes>"
      ]
     },
     "metadata": {},
     "output_type": "display_data"
    }
   ],
   "source": [
    "# построим \"ящик с усами\" \n",
    "plt.figure(figsize=(10, 6))\n",
    "\n",
    "sns.set_style(\"whitegrid\")\n",
    "\n",
    "ax = sns.boxplot(data=df, x=\"Promotion\", y=\"SalesInThousands\", hue=\"Promotion\",\n",
    "                palette=\"pastel\", linewidth=2.5, width=0.6,\n",
    "                boxprops=dict(edgecolor=\"gray\", linewidth=2))\n",
    "\n",
    "# настройки внешнего вида\n",
    "plt.title('Сравнение объема продаж протестированных акций', fontsize=14, pad=20)\n",
    "plt.xlabel('Протестированные акции', fontsize=12)\n",
    "plt.ylabel('Объем продаж', fontsize=12)\n",
    "plt.legend(title=\"Тип акции\", frameon=True)\n",
    "\n",
    "# улучшаем отображение\n",
    "sns.despine(offset=10, trim=True)\n",
    "plt.tight_layout()\n",
    "plt.show()"
   ]
  },
  {
   "cell_type": "markdown",
   "id": "03f6a15d-d752-476f-b033-c525e7317e76",
   "metadata": {},
   "source": [
    "В соответствии с графиком выше, можно заметить, что в данных присутствуют выбросы. Необходимо избавиться от них для корректного проведения дальнейшего анализа."
   ]
  },
  {
   "cell_type": "markdown",
   "id": "fbf7303d-3570-4c7b-9d69-2b37d962c463",
   "metadata": {},
   "source": [
    "##### Работа с выбросами"
   ]
  },
  {
   "cell_type": "markdown",
   "id": "abff06a9-f481-4438-b661-d60fae7c0e33",
   "metadata": {},
   "source": [
    "Заменим значения выбросов на верхнюю и нижнюю границы в соответствии с межквартильным размахом."
   ]
  },
  {
   "cell_type": "code",
   "execution_count": 22,
   "id": "afd9cd8d-2877-4d97-a96d-59cb806930d0",
   "metadata": {},
   "outputs": [],
   "source": [
    "def outliers_in_df(df, var_num):\n",
    "    \"\"\"\n",
    "        Функция вычисляет верхнюю и нижнюю границы выбросов \n",
    "        для переменной var_num.\n",
    "    \"\"\"\n",
    "    q1 = df[var_num].quantile(0.25)\n",
    "    q3 = df[var_num].quantile(0.75)\n",
    "    iqr = q3 - q1\n",
    "    upper_limit = q3 + 1.5*iqr\n",
    "    low_limit = q1 - 1.5*iqr\n",
    "    \n",
    "    return upper_limit, low_limit\n",
    "\n",
    "\n",
    "def replace_outliers(df, var_num):\n",
    "    \"\"\"\n",
    "        Функция заменяет значения выбросов в df[var] на границы \n",
    "        межквартильного размаха.\n",
    "    \"\"\"\n",
    "    upper_limit, low_limit = outliers_in_df(df, var_num)\n",
    "    df.loc[(df[var_num] < low_limit), var_num] = low_limit\n",
    "    df.loc[(df[var_num] > upper_limit), var_num] = upper_limit"
   ]
  },
  {
   "cell_type": "code",
   "execution_count": 23,
   "id": "486cfb3f-d769-4fd5-a7e1-e311e9c9ef34",
   "metadata": {},
   "outputs": [],
   "source": [
    "# список датафреймов по разному типу проводимой акции\n",
    "df_1_prom = df.loc[df['Promotion']==1]\n",
    "df_2_prom = df.loc[df['Promotion']==2]\n",
    "df_3_prom = df.loc[df['Promotion']==3]\n",
    "all_df_list = [df_1_prom, df_2_prom, df_3_prom]\n",
    "\n",
    "# замена выбросов для каждого df\n",
    "for i in all_df_list:\n",
    "    replace_outliers(i, 'SalesInThousands')"
   ]
  },
  {
   "cell_type": "code",
   "execution_count": 24,
   "id": "f87b2eef-48cb-4330-91fc-f721ffc9eff2",
   "metadata": {},
   "outputs": [],
   "source": [
    "# объединим датафреймы\n",
    "df_new = pd.concat([df_1_prom, df_2_prom, df_3_prom], ignore_index=True)"
   ]
  },
  {
   "cell_type": "code",
   "execution_count": 25,
   "id": "4ad03ce8-f970-4b90-b9cc-475b041aaf04",
   "metadata": {},
   "outputs": [
    {
     "data": {
      "image/png": "[encoded data removed]",
      "text/plain": [
       "<Figure size 1000x600 with 1 Axes>"
      ]
     },
     "metadata": {},
     "output_type": "display_data"
    }
   ],
   "source": [
    "# построим \"ящик с усами\" \n",
    "plt.figure(figsize=(10, 6))\n",
    "\n",
    "sns.set_style(\"whitegrid\")\n",
    "\n",
    "ax = sns.boxplot(data=df_new, x=\"Promotion\", y=\"SalesInThousands\", hue=\"Promotion\",\n",
    "                palette=\"pastel\", linewidth=2.5, width=0.6,\n",
    "                boxprops=dict(edgecolor=\"gray\", linewidth=2))\n",
    "\n",
    "# настройки внешнего вида\n",
    "plt.title('Сравнение объема продаж протестированных акций', fontsize=14, pad=20)\n",
    "plt.xlabel('Протестированные акции', fontsize=12)\n",
    "plt.ylabel('Объем продаж', fontsize=12)\n",
    "plt.legend(title=\"Тип акции\", frameon=True)\n",
    "\n",
    "# улучшаем отображение\n",
    "sns.despine(offset=10, trim=True)\n",
    "plt.tight_layout()\n",
    "plt.show()"
   ]
  },
  {
   "cell_type": "markdown",
   "id": "2b8ec77c-d862-4ffb-8f53-12b05ee33374",
   "metadata": {},
   "source": [
    "Выбросов больше нет, можем приступать к A/B-тестированию."
   ]
  },
  {
   "cell_type": "code",
   "execution_count": 26,
   "id": "6e1eba43-5487-49cd-a3dd-79809fafcc26",
   "metadata": {},
   "outputs": [
    {
     "data": {
      "text/html": [
       "<div>\n",
       "<style scoped>\n",
       "    .dataframe tbody tr th:only-of-type {\n",
       "        vertical-align: middle;\n",
       "    }\n",
       "\n",
       "    .dataframe tbody tr th {\n",
       "        vertical-align: top;\n",
       "    }\n",
       "\n",
       "    .dataframe thead th {\n",
       "        text-align: right;\n",
       "    }\n",
       "</style>\n",
       "<table border=\"1\" class=\"dataframe\">\n",
       "  <thead>\n",
       "    <tr style=\"text-align: right;\">\n",
       "      <th></th>\n",
       "      <th>Promotion</th>\n",
       "      <th>SalesInThousands</th>\n",
       "    </tr>\n",
       "  </thead>\n",
       "  <tbody>\n",
       "    <tr>\n",
       "      <th>0</th>\n",
       "      <td>1</td>\n",
       "      <td>9929.41</td>\n",
       "    </tr>\n",
       "    <tr>\n",
       "      <th>1</th>\n",
       "      <td>2</td>\n",
       "      <td>8712.88</td>\n",
       "    </tr>\n",
       "    <tr>\n",
       "      <th>2</th>\n",
       "      <td>3</td>\n",
       "      <td>10367.39</td>\n",
       "    </tr>\n",
       "  </tbody>\n",
       "</table>\n",
       "</div>"
      ],
      "text/plain": [
       "   Promotion  SalesInThousands\n",
       "0          1           9929.41\n",
       "1          2           8712.88\n",
       "2          3          10367.39"
      ]
     },
     "execution_count": 26,
     "metadata": {},
     "output_type": "execute_result"
    }
   ],
   "source": [
    "df_new.groupby(['Promotion'], as_index=False).agg({'SalesInThousands' : 'sum'})"
   ]
  },
  {
   "cell_type": "markdown",
   "id": "3acd0def-5fa7-4d27-b414-d91036d1bc27",
   "metadata": {},
   "source": [
    "После удаления выбросов ситуация не изменилась: наибольшие объмы продаж у 3 типа протестированной акции."
   ]
  },
  {
   "cell_type": "markdown",
   "id": "0d0663b5-0ecb-41c3-a348-d879e8e28c9c",
   "metadata": {},
   "source": [
    "<div style=\"background-color: #e6f7ff; padding: 15px; border-left: 5px solid #5bc0de;\">\n",
    " <b>3. Дисперсионный анализ (ANOVA)<b>\n",
    "</div>"
   ]
  },
  {
   "cell_type": "markdown",
   "id": "8e060170-b5c5-409e-abd8-0e2e2c5d93e9",
   "metadata": {},
   "source": [
    "Проверка дисперсий внутри групп - являются ли они одинаковыми (гомогенными). "
   ]
  },
  {
   "cell_type": "markdown",
   "id": "bbbc193f-aaf9-4fd7-ae54-dff921f7a6c1",
   "metadata": {},
   "source": [
    "Тест Левена \n",
    "1. H0: Дисперсии в выборках не имеют значимых различий.\n",
    "2. H1: Дисперсии в выборках имеют значимые различия."
   ]
  },
  {
   "cell_type": "code",
   "execution_count": 27,
   "id": "81ca1e33-4580-4549-a398-5b4d8afbb827",
   "metadata": {},
   "outputs": [
    {
     "data": {
      "text/plain": [
       "LeveneResult(statistic=np.float64(3.2184808084396104), pvalue=np.float64(0.040777594092796646))"
      ]
     },
     "execution_count": 27,
     "metadata": {},
     "output_type": "execute_result"
    }
   ],
   "source": [
    "# Тест Левена - scipy\n",
    "levene(df_1_prom['SalesInThousands'], df_2_prom['SalesInThousands'], df_3_prom['SalesInThousands'])"
   ]
  },
  {
   "cell_type": "code",
   "execution_count": 28,
   "id": "83b505c6-a737-4bbe-b69e-5f608f9319b4",
   "metadata": {},
   "outputs": [
    {
     "data": {
      "text/html": [
       "<div>\n",
       "<style scoped>\n",
       "    .dataframe tbody tr th:only-of-type {\n",
       "        vertical-align: middle;\n",
       "    }\n",
       "\n",
       "    .dataframe tbody tr th {\n",
       "        vertical-align: top;\n",
       "    }\n",
       "\n",
       "    .dataframe thead th {\n",
       "        text-align: right;\n",
       "    }\n",
       "</style>\n",
       "<table border=\"1\" class=\"dataframe\">\n",
       "  <thead>\n",
       "    <tr style=\"text-align: right;\">\n",
       "      <th></th>\n",
       "      <th>W</th>\n",
       "      <th>pval</th>\n",
       "      <th>equal_var</th>\n",
       "    </tr>\n",
       "  </thead>\n",
       "  <tbody>\n",
       "    <tr>\n",
       "      <th>levene</th>\n",
       "      <td>3.218481</td>\n",
       "      <td>0.040778</td>\n",
       "      <td>False</td>\n",
       "    </tr>\n",
       "  </tbody>\n",
       "</table>\n",
       "</div>"
      ],
      "text/plain": [
       "               W      pval  equal_var\n",
       "levene  3.218481  0.040778      False"
      ]
     },
     "execution_count": 28,
     "metadata": {},
     "output_type": "execute_result"
    }
   ],
   "source": [
    "# Тест Левена - pingouin\n",
    "pg.homoscedasticity(df_new, dv='SalesInThousands', group='Promotion')"
   ]
  },
  {
   "cell_type": "markdown",
   "id": "129c4cf3-13cb-49a0-a592-437e26649fa3",
   "metadata": {},
   "source": [
    "p-value < 0.05, отклоняем нулевую гипотезу."
   ]
  },
  {
   "cell_type": "markdown",
   "id": "a49ddca8-9e98-45f4-b682-0ba6801f5fb3",
   "metadata": {},
   "source": [
    "Проверка на нормальность распределения внутри групп."
   ]
  },
  {
   "cell_type": "markdown",
   "id": "72a1d28f-5e33-4c66-8d2e-b9c9f8669106",
   "metadata": {},
   "source": [
    "Тест Шапиро-Уилка\n",
    "1. H0: выборка распределена по нормальному закону\n",
    "2. H1: закон распределения не является нормальным"
   ]
  },
  {
   "cell_type": "code",
   "execution_count": 29,
   "id": "e500f15b-3626-4ef3-84bc-116c5a7b504b",
   "metadata": {},
   "outputs": [
    {
     "name": "stdout",
     "output_type": "stream",
     "text": [
      "Результаты теста для 1 типа акций: ShapiroResult(statistic=np.float64(0.9138930831352003), pvalue=np.float64(1.5967612705651875e-08))\n",
      "Результаты теста для 2 типа акций: ShapiroResult(statistic=np.float64(0.9449333645106409), pvalue=np.float64(1.2569483890935498e-06))\n",
      "Результаты теста для 3 типа акций: ShapiroResult(statistic=np.float64(0.9161294460133851), pvalue=np.float64(7.056882084000772e-09))\n"
     ]
    }
   ],
   "source": [
    "print(f\"Результаты теста для 1 типа акций: {shapiro(df_1_prom['SalesInThousands'])}\")\n",
    "print(f\"Результаты теста для 2 типа акций: {shapiro(df_2_prom['SalesInThousands'])}\")\n",
    "print(f\"Результаты теста для 3 типа акций: {shapiro(df_3_prom['SalesInThousands'])}\")"
   ]
  },
  {
   "cell_type": "markdown",
   "id": "a2fe746e-7bb2-4582-950a-a4dd5015aa93",
   "metadata": {},
   "source": [
    "Все представленные выборки не подчиняются закону нормального распределения."
   ]
  },
  {
   "cell_type": "markdown",
   "id": "93c76a3c-8f8d-48ba-b95d-039649f7cba1",
   "metadata": {},
   "source": [
    "Исходя из вышепроведенных тестов, необходимо использовать непараметрический ANOVA тест (Критерий Краскела-Уоллиса).\n",
    "1. H0: все группы имеют одинаковые распределения (медианы)\n",
    "2. H1: хотя бы одна пара групп имеет отличные распределения (медианы)"
   ]
  },
  {
   "cell_type": "code",
   "execution_count": 30,
   "id": "e4e8508c-3148-4af2-adf8-2440e34b482c",
   "metadata": {},
   "outputs": [
    {
     "data": {
      "text/plain": [
       "KruskalResult(statistic=np.float64(55.46625555799193), pvalue=np.float64(9.029332369036347e-13))"
      ]
     },
     "execution_count": 30,
     "metadata": {},
     "output_type": "execute_result"
    }
   ],
   "source": [
    "kruskal(df_1_prom['SalesInThousands'], df_2_prom['SalesInThousands'], df_3_prom['SalesInThousands'])"
   ]
  },
  {
   "cell_type": "markdown",
   "id": "68296575-72dd-40d3-a518-0a4a8351dd6b",
   "metadata": {},
   "source": [
    "p-value < 0.05, отвергаем нулевую гипотезу и принимаем альтернативную. Существуют статистически значимые различия между типами рекламных акций."
   ]
  },
  {
   "cell_type": "markdown",
   "id": "b4c8ef49-6a21-4bc2-b640-cf25d057976a",
   "metadata": {},
   "source": [
    "Проведем тест Геймса-Хоуэлла\n",
    "1. H0: средние значения во всех группах равны\n",
    "2. H1: средние значения в группе отличаются"
   ]
  },
  {
   "cell_type": "code",
   "execution_count": 31,
   "id": "63ffcc3b-1a5b-4480-bd9a-a11a79d16ac1",
   "metadata": {},
   "outputs": [
    {
     "data": {
      "text/html": [
       "<div>\n",
       "<style scoped>\n",
       "    .dataframe tbody tr th:only-of-type {\n",
       "        vertical-align: middle;\n",
       "    }\n",
       "\n",
       "    .dataframe tbody tr th {\n",
       "        vertical-align: top;\n",
       "    }\n",
       "\n",
       "    .dataframe thead th {\n",
       "        text-align: right;\n",
       "    }\n",
       "</style>\n",
       "<table border=\"1\" class=\"dataframe\">\n",
       "  <thead>\n",
       "    <tr style=\"text-align: right;\">\n",
       "      <th></th>\n",
       "      <th>A</th>\n",
       "      <th>B</th>\n",
       "      <th>mean(A)</th>\n",
       "      <th>mean(B)</th>\n",
       "      <th>diff</th>\n",
       "      <th>se</th>\n",
       "      <th>T</th>\n",
       "      <th>df</th>\n",
       "      <th>pval</th>\n",
       "      <th>hedges</th>\n",
       "    </tr>\n",
       "  </thead>\n",
       "  <tbody>\n",
       "    <tr>\n",
       "      <th>0</th>\n",
       "      <td>1</td>\n",
       "      <td>2</td>\n",
       "      <td>57.729128</td>\n",
       "      <td>46.345106</td>\n",
       "      <td>11.384022</td>\n",
       "      <td>1.528117</td>\n",
       "      <td>7.449706</td>\n",
       "      <td>331.938426</td>\n",
       "      <td>2.495226e-12</td>\n",
       "      <td>0.791166</td>\n",
       "    </tr>\n",
       "    <tr>\n",
       "      <th>1</th>\n",
       "      <td>1</td>\n",
       "      <td>3</td>\n",
       "      <td>57.729128</td>\n",
       "      <td>55.145691</td>\n",
       "      <td>2.583436</td>\n",
       "      <td>1.689463</td>\n",
       "      <td>1.529146</td>\n",
       "      <td>356.908113</td>\n",
       "      <td>2.784815e-01</td>\n",
       "      <td>0.160764</td>\n",
       "    </tr>\n",
       "    <tr>\n",
       "      <th>2</th>\n",
       "      <td>2</td>\n",
       "      <td>3</td>\n",
       "      <td>46.345106</td>\n",
       "      <td>55.145691</td>\n",
       "      <td>-8.800585</td>\n",
       "      <td>1.518220</td>\n",
       "      <td>-5.796647</td>\n",
       "      <td>355.944078</td>\n",
       "      <td>4.471047e-08</td>\n",
       "      <td>-0.596679</td>\n",
       "    </tr>\n",
       "  </tbody>\n",
       "</table>\n",
       "</div>"
      ],
      "text/plain": [
       "   A  B    mean(A)    mean(B)       diff        se         T          df  \\\n",
       "0  1  2  57.729128  46.345106  11.384022  1.528117  7.449706  331.938426   \n",
       "1  1  3  57.729128  55.145691   2.583436  1.689463  1.529146  356.908113   \n",
       "2  2  3  46.345106  55.145691  -8.800585  1.518220 -5.796647  355.944078   \n",
       "\n",
       "           pval    hedges  \n",
       "0  2.495226e-12  0.791166  \n",
       "1  2.784815e-01  0.160764  \n",
       "2  4.471047e-08 -0.596679  "
      ]
     },
     "execution_count": 31,
     "metadata": {},
     "output_type": "execute_result"
    }
   ],
   "source": [
    "pg.pairwise_gameshowell(data=df_new, dv=\"SalesInThousands\", between=\"Promotion\")"
   ]
  },
  {
   "cell_type": "markdown",
   "id": "40ff870a-c4e9-4698-87f8-b9823a57662a",
   "metadata": {},
   "source": [
    "Статистически значимые различия есть между группами:\n",
    "*  1 и 2 типом протестированных акций;\n",
    "*  2 и 3 типом протестированных акций.\n",
    "\n",
    "Средние значения объема продаж для первого типа протестированных акций являются наибольшими. Типы 1 и 3 акций не имеют значимых статистических отличий."
   ]
  },
  {
   "cell_type": "markdown",
   "id": "58b93ee9-30ce-4bf5-95be-828afd07c909",
   "metadata": {},
   "source": [
    "<div style=\"background-color: #e6f7ff; padding: 15px; border-left: 5px solid #5bc0de;\">\n",
    " <b>4. Выводы<b>\n",
    "</div>"
   ]
  },
  {
   "cell_type": "markdown",
   "id": "ab69321f-6674-482d-b78e-8f012dcf8d00",
   "metadata": {},
   "source": [
    "* Наибольшие суммарные показатели объемов продаж представлены у первого и третьего типа протестированных акций (3 тип превышает показатели 1 типа на ~4%).\n",
    "* Наибольшие средние значения объема продаж получены при тестировании первого типа акции. \n",
    "* В ходе анализа были обнаружены статистически значимые отличия между 1 и 2 типами протестированных акций, а также между 2 и 3 типами.\n",
    "* Между 1 и 3 типами протестированных акций статистически значимых отличий не наблюдается. \n",
    "* Наибольшие различия проявляются между 1 и 2 типами акций.\n",
    " \n",
    "В результате проведенного исследования, можно заключить, что первый тип протестированной акции является наилучшим."
   ]
  }
 ],
 "metadata": {
  "kernelspec": {
   "display_name": "Python 3 (ipykernel)",
   "language": "python",
   "name": "python3"
  },
  "language_info": {
   "codemirror_mode": {
    "name": "ipython",
    "version": 3
   },
   "file_extension": ".py",
   "mimetype": "text/x-python",
   "name": "python",
   "nbconvert_exporter": "python",
   "pygments_lexer": "ipython3",
   "version": "3.12.8"
  }
 },
 "nbformat": 4,
 "nbformat_minor": 5
}
